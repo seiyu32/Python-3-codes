{
 "cells": [
  {
   "cell_type": "code",
   "execution_count": 3,
   "metadata": {
    "collapsed": true,
    "pycharm": {
     "is_executing": false
    }
   },
   "outputs": [
    {
     "traceback": [
      "\u001b[0;31m---------------------------------------------------------------------------\u001b[0m",
      "\u001b[0;31mModuleNotFoundError\u001b[0m                       Traceback (most recent call last)",
      "\u001b[0;32m<ipython-input-3-b0b8437046a3>\u001b[0m in \u001b[0;36m<module>\u001b[0;34m\u001b[0m\n\u001b[1;32m      5\u001b[0m \u001b[0;32mimport\u001b[0m \u001b[0mnumpy\u001b[0m \u001b[0;32mas\u001b[0m \u001b[0mnp\u001b[0m\u001b[0;34m\u001b[0m\u001b[0;34m\u001b[0m\u001b[0m\n\u001b[1;32m      6\u001b[0m \u001b[0;32mimport\u001b[0m \u001b[0mpandas\u001b[0m \u001b[0;32mas\u001b[0m \u001b[0mpd\u001b[0m\u001b[0;34m\u001b[0m\u001b[0;34m\u001b[0m\u001b[0m\n\u001b[0;32m----> 7\u001b[0;31m \u001b[0;32mimport\u001b[0m \u001b[0mpandas_datareader\u001b[0m \u001b[0;32mas\u001b[0m \u001b[0mpdr\u001b[0m\u001b[0;34m\u001b[0m\u001b[0;34m\u001b[0m\u001b[0m\n\u001b[0m\u001b[1;32m      8\u001b[0m \u001b[0;32mimport\u001b[0m \u001b[0mpymc3\u001b[0m \u001b[0;32mas\u001b[0m \u001b[0mpm\u001b[0m\u001b[0;34m\u001b[0m\u001b[0;34m\u001b[0m\u001b[0m\n\u001b[1;32m      9\u001b[0m \u001b[0;32mfrom\u001b[0m \u001b[0mpymc3\u001b[0m\u001b[0;34m.\u001b[0m\u001b[0mdistributions\u001b[0m\u001b[0;34m.\u001b[0m\u001b[0mtimeseries\u001b[0m \u001b[0;32mimport\u001b[0m \u001b[0mGaussianRandomWalk\u001b[0m\u001b[0;34m\u001b[0m\u001b[0;34m\u001b[0m\u001b[0m\n",
      "\u001b[0;31mModuleNotFoundError\u001b[0m: No module named 'pandas_datareader'"
     ],
     "ename": "ModuleNotFoundError",
     "evalue": "No module named 'pandas_datareader'",
     "output_type": "error"
    }
   ],
   "source": [
    "import datetime\n",
    "import pprint\n",
    "\n",
    "import matplotlib.pyplot as plt\n",
    "import numpy as np\n",
    "import pandas as pd\n",
    "import pandas_datareader as pdr\n",
    "import pymc3 as pm\n",
    "from pymc3.distributions.timeseries import GaussianRandomWalk\n",
    "import seaborn as sns\n",
    "\n",
    "def obtain_plot_amazon_prices_dataframe(start_date, end_date):\n",
    "    \"\"\"\n",
    "    Download, calculate and plot the AMZN logarithmic returns.\n",
    "    \"\"\"\n",
    "    print(\"Downloading and plotting AMZN log returns...\")\n",
    "    amzn = pdr.get_data_yahoo(\"AMZN\", start_date, end_date)\n",
    "    amzn[\"returns\"] = amzn[\"Adj Close\"]/amzn[\"Adj Close\"].shift(1)\n",
    "    amzn.dropna(inplace=True)\n",
    "    amzn[\"log_returns\"] = np.log(amzn[\"returns\"])\n",
    "    amzn[\"log_returns\"].plot(linewidth=0.5)\n",
    "    plt.ylabel(\"AMZN daily percentage returns\")\n",
    "    plt.show()\n",
    "    return amzn\n",
    "\n",
    "def configure_sample_stoch_vol_model(log_returns, samples):\n",
    "    \"\"\"\n",
    "    Configure the stochastic volatility model using PyMC3\n",
    "    in a 'width' context. Then sample from the model using\n",
    "    the No-U-Turn-Samples (NUTS).\n",
    "    \n",
    "    Plot the logarithmic volatility process and then the \n",
    "    absolute returns overlaid with the estimated vol.\n",
    "    \"\"\"\n",
    "    print(\"Configuring stochastic volatility with PyMC3...\")\n",
    "    model = pm.Model()\n",
    "    with model:\n",
    "        sigma = pm.Exponential('sigma', 50.0, testval=0.1)\n",
    "        nu = pm.Exponential('nu', 0.1)\n",
    "        s = GaussianRandomWalk('s', sigma**-2, shape=len(log_returns))\n",
    "        logrets = pm.StudentT(\n",
    "            'logrets', nu,\n",
    "            lam=pm.math.exp(-2.0*s),\n",
    "            observed=log_returns\n",
    "        )\n",
    "    \n",
    "    print(\"Fitting the Stochastic volatility model...\")\n",
    "    with model:\n",
    "        trace = pm.sample(samples)\n",
    "    pm.traceplot(trace, model.vars[:-1])\n",
    "    plt.show()\n",
    "    \n",
    "    print(\"Plotting the log volatility...\")\n",
    "    k = 10\n",
    "    opacity = 0.03\n",
    "    plt.plot(trace[s][::k].T, 'b', alpha=opacity)\n",
    "    plt.xlabel('Time')\n",
    "    plt.ylabel('Log Volatility')\n",
    "    plt.show()\n",
    "    \n",
    "    print(\"Plotting the absolute returns overlaid with vol...\")\n",
    "    plt.plot(np.abs(np.exp(log_returns))-1.0, linewidth=0.5)\n",
    "    plt.plot(np.exp(trace[s][::k].T), 'r', alpha=opacity)\n",
    "    plt.xlabel(\"Trading Days\")\n",
    "    plt.ylabel(\"Absolute Returns/Volatility\")\n",
    "    plt.show()\n",
    "    \n",
    "if __name__ == \"__main__\":\n",
    "    # State the starting and ending dates of the AMZN returns\n",
    "    start_date = datetime.datetime(2006, 1, 1)\n",
    "    end_date = datetime.datetime(2015, 12, 31)\n",
    "    \n",
    "    # Obtain and plot the logarithmic returns of Amazon prices\n",
    "    amzn_df = obtain_plot_amazon_prices_dataframe(start_date, end_date)\n",
    "    log_returns = np.array(amzn_df[\"log_returns\"])\n",
    "    \n",
    "    # Configure the stochastic volatility model and carry out\n",
    "    # MCMC sampling using NUTS, plotting the trace\n",
    "    samples = 2000\n",
    "    configure_sample_stoch_vol_model(log_returns, samples)\n",
    "    "
   ]
  },
  {
   "cell_type": "code",
   "execution_count": null,
   "outputs": [],
   "source": [
    "\n"
   ],
   "metadata": {
    "collapsed": false,
    "pycharm": {
     "name": "#%%\n"
    }
   }
  }
 ],
 "metadata": {
  "kernelspec": {
   "display_name": "Python 3",
   "language": "python",
   "name": "python3"
  },
  "language_info": {
   "codemirror_mode": {
    "name": "ipython",
    "version": 2
   },
   "file_extension": ".py",
   "mimetype": "text/x-python",
   "name": "python",
   "nbconvert_exporter": "python",
   "pygments_lexer": "ipython2",
   "version": "2.7.6"
  },
  "pycharm": {
   "stem_cell": {
    "cell_type": "raw",
    "source": [],
    "metadata": {
     "collapsed": false
    }
   }
  }
 },
 "nbformat": 4,
 "nbformat_minor": 0
}