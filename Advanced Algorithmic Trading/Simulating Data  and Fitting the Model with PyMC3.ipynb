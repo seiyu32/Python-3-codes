{
 "cells": [
  {
   "cell_type": "code",
   "execution_count": 11,
   "metadata": {
    "collapsed": true,
    "pycharm": {
     "is_executing": false,
     "name": "#%%\n"
    }
   },
   "outputs": [
    {
     "traceback": [
      "\u001b[0;31m---------------------------------------------------------------------------\u001b[0m",
      "\u001b[0;31mTypeError\u001b[0m                                 Traceback (most recent call last)",
      "\u001b[0;32mmtrand.pyx\u001b[0m in \u001b[0;36mnumpy.random.mtrand.RandomState.choice\u001b[0;34m()\u001b[0m\n",
      "\u001b[0;31mTypeError\u001b[0m: 'map' object cannot be interpreted as an integer",
      "\nDuring handling of the above exception, another exception occurred:\n",
      "\u001b[0;31mValueError\u001b[0m                                Traceback (most recent call last)",
      "\u001b[0;32m<ipython-input-11-2d2b3981301c>\u001b[0m in \u001b[0;36m<module>\u001b[0;34m\u001b[0m\n\u001b[1;32m     80\u001b[0m \u001b[0;34m\u001b[0m\u001b[0m\n\u001b[1;32m     81\u001b[0m     \u001b[0;31m# Simulate the \"linear\" data using the above parameters\u001b[0m\u001b[0;34m\u001b[0m\u001b[0;34m\u001b[0m\u001b[0;34m\u001b[0m\u001b[0m\n\u001b[0;32m---> 82\u001b[0;31m     \u001b[0mdf\u001b[0m \u001b[0;34m=\u001b[0m \u001b[0msimulate_linear_data\u001b[0m\u001b[0;34m(\u001b[0m\u001b[0mN\u001b[0m\u001b[0;34m,\u001b[0m \u001b[0mbeta_0\u001b[0m\u001b[0;34m,\u001b[0m \u001b[0mbeta_1\u001b[0m\u001b[0;34m,\u001b[0m \u001b[0meps_sigma_sq\u001b[0m\u001b[0;34m)\u001b[0m\u001b[0;34m\u001b[0m\u001b[0;34m\u001b[0m\u001b[0m\n\u001b[0m\u001b[1;32m     83\u001b[0m \u001b[0;34m\u001b[0m\u001b[0m\n\u001b[1;32m     84\u001b[0m     \u001b[0;31m# Plot the data, and a frequentist linear regression fit\u001b[0m\u001b[0;34m\u001b[0m\u001b[0;34m\u001b[0m\u001b[0;34m\u001b[0m\u001b[0m\n",
      "\u001b[0;32m<ipython-input-11-2d2b3981301c>\u001b[0m in \u001b[0;36msimulate_linear_data\u001b[0;34m(N, beta_0, beta_1, eps_sigma_sq)\u001b[0m\n\u001b[1;32m     25\u001b[0m                     \u001b[0;32mlambda\u001b[0m \u001b[0mx\u001b[0m\u001b[0;34m:\u001b[0m \u001b[0mfloat\u001b[0m\u001b[0;34m(\u001b[0m\u001b[0mx\u001b[0m\u001b[0;34m)\u001b[0m\u001b[0;34m/\u001b[0m\u001b[0;36m100.0\u001b[0m\u001b[0;34m,\u001b[0m\u001b[0;34m\u001b[0m\u001b[0;34m\u001b[0m\u001b[0m\n\u001b[1;32m     26\u001b[0m                     \u001b[0mnp\u001b[0m\u001b[0;34m.\u001b[0m\u001b[0marange\u001b[0m\u001b[0;34m(\u001b[0m\u001b[0mN\u001b[0m\u001b[0;34m)\u001b[0m\u001b[0;34m\u001b[0m\u001b[0;34m\u001b[0m\u001b[0m\n\u001b[0;32m---> 27\u001b[0;31m                 ), N, replace=False\n\u001b[0m\u001b[1;32m     28\u001b[0m             )\n\u001b[1;32m     29\u001b[0m         }\n",
      "\u001b[0;32mmtrand.pyx\u001b[0m in \u001b[0;36mnumpy.random.mtrand.RandomState.choice\u001b[0;34m()\u001b[0m\n",
      "\u001b[0;31mValueError\u001b[0m: a must be 1-dimensional or an integer"
     ],
     "ename": "ValueError",
     "evalue": "a must be 1-dimensional or an integer",
     "output_type": "error"
    }
   ],
   "source": [
    "import matplotlib.pyplot as plt\n",
    "import numpy as np\n",
    "import pandas as pd\n",
    "import pymc3 as pm \n",
    "import seaborn as sns\n",
    "\n",
    "sns.set(style=\"darkgrid\", palette=\"muted\")\n",
    "\n",
    "\n",
    "def simulate_linear_data(N, beta_0, beta_1, eps_sigma_sq):\n",
    "    \"\"\"\n",
    "    Simulate a random dataset using a noisy\n",
    "    linear process.\n",
    "    \n",
    "    N: Number of data points to simulate\n",
    "    beta_0: Intercept\n",
    "    beta_1: Slope of univariate predictor, X\n",
    "    \"\"\"\n",
    "    # Create a pandas DataFrame with column 'x' containing\n",
    "    # N uniformly sampled values between 0.0 and 1.0 \n",
    "    df = pd.DataFrame(\n",
    "        {\"x\":\n",
    "            np.random.RandomState(42).choice(\n",
    "                map(\n",
    "                    lambda x: float(x)/100.0,\n",
    "                    np.arange(N)\n",
    "                ), N, replace=False\n",
    "            )\n",
    "        }\n",
    "    )\n",
    "    \n",
    "# Use a linear model (y ~ beta_0 + beta_1*x + epsilon) to\n",
    "# generate a column 'y' of responses based on 'x'\n",
    "    eps_mean = 0.0\n",
    "    df[\"y\"] = beta_0 + beta_1*df[\"x\"] + np.random.RandomState(42).normal(\n",
    "        eps_mean, eps_sigma_sq, N\n",
    "    )\n",
    "\n",
    "\n",
    "def glm_mcmc_inference(df, iterations=5000):\n",
    "    \n",
    "    \"\"\"\n",
    "    Calculates the Markov Chain Monte Carlo trace of \n",
    "    a Generalised Linear Model Bayesian linear regression\n",
    "    model on supplied data. \n",
    "\n",
    "    df: Dataframe containing the data\n",
    "    iterations: Number of iterations to carry out MCMC for\n",
    "    \"\"\"\n",
    "    # Use PyMC3 to construct a model context\n",
    "    basic_model = pm.Model()\n",
    "    with basic_model:\n",
    "        # Create the glm using the Patsy model syntax\n",
    "        # We use a Normal distribution for the likelihood\n",
    "        pm.glm.glm(\"y ~ x\", df, family=pm.glm.family.Normal())\n",
    "    \n",
    "        # Use Maximum A posteriori (MAP) optimisation\n",
    "        # as initial value for MCMC\n",
    "        start = pm.find_MAP()\n",
    "    \n",
    "        # Use the No-U-Turn Sampler\n",
    "        step = pm.NUTS()\n",
    "    \n",
    "        # Calculate the trace \n",
    "        trace = pm.sample(\n",
    "            iterations, step, start, \n",
    "            random_seed=42, progressbar=True\n",
    "        )\n",
    "    \n",
    "    return trace\n",
    "\n",
    "if __name__ == \"__main__\":\n",
    "    # These are our \"true\" parameters\n",
    "    beta_0 = 1.0            # Intercept\n",
    "    beta_1 = 2.0            # Slope\n",
    "\n",
    "    # Simulate 100 data points, with a variance of 0.5\n",
    "    N = 200\n",
    "    eps_sigma_sq = 0.5\n",
    "\n",
    "    # Simulate the \"linear\" data using the above parameters\n",
    "    df = simulate_linear_data(N, beta_0, beta_1, eps_sigma_sq)\n",
    "        \n",
    "    # Plot the data, and a frequentist linear regression fit\n",
    "    # using the seaborn package\n",
    "    sns.lmplot(x=\"x\", y=\"y\", data=df, size=10)\n",
    "    plt.xlim(0.0, 1.0)\n",
    "    \n",
    "    trace = glm_mcmc_inference(df, iterations=5000)\n",
    "    pm.traceplot(trace[500:])\n",
    "    plt.show()\n",
    "    \n",
    "    # Plot a sample of posterior regression lines\n",
    "    sns.lmplot(x=\"x\", y=\"y\", data=df, size=10, fit_reg=False)\n",
    "    plt.xlim(0.0, 1.0)\n",
    "    plt.ylim(0.0, 4.0)\n",
    "    pm.glm.plot_posterior_predictive(trace, samples=100)\n",
    "    x = np.linspace(0, 1, N)\n",
    "    y = beta_0 + beta_1*x\n",
    "    plt.plot(x, y, label=\"True Regression Line\", lw=3., c=\"green\")\n",
    "    plt.legend(loc=0)\n",
    "    plt.show()"
   ]
  },
  {
   "cell_type": "code",
   "execution_count": null,
   "outputs": [],
   "source": [
    "\n"
   ],
   "metadata": {
    "collapsed": false,
    "pycharm": {
     "name": "#%%\n"
    }
   }
  }
 ],
 "metadata": {
  "kernelspec": {
   "display_name": "Python 3",
   "language": "python",
   "name": "python3"
  },
  "language_info": {
   "codemirror_mode": {
    "name": "ipython",
    "version": 2
   },
   "file_extension": ".py",
   "mimetype": "text/x-python",
   "name": "python",
   "nbconvert_exporter": "python",
   "pygments_lexer": "ipython2",
   "version": "2.7.6"
  },
  "pycharm": {
   "stem_cell": {
    "cell_type": "raw",
    "source": [],
    "metadata": {
     "collapsed": false
    }
   }
  }
 },
 "nbformat": 4,
 "nbformat_minor": 0
}